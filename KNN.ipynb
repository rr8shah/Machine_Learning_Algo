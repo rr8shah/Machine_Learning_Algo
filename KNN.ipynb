{
 "cells": [
  {
   "cell_type": "code",
   "execution_count": 2,
   "metadata": {},
   "outputs": [],
   "source": [
    "import numpy as np\n",
    "import pandas as pd\n",
    "from sklearn import datasets\n",
    "from sklearn.model_selection import train_test_split\n",
    "from sklearn.neighbors import KNeighborsClassifier\n",
    "from sklearn.metrics import accuracy_score\n",
    "import matplotlib.pyplot as plt"
   ]
  },
  {
   "cell_type": "code",
   "execution_count": 3,
   "metadata": {},
   "outputs": [
    {
     "data": {
      "text/html": [
       "<div>\n",
       "<style scoped>\n",
       "    .dataframe tbody tr th:only-of-type {\n",
       "        vertical-align: middle;\n",
       "    }\n",
       "\n",
       "    .dataframe tbody tr th {\n",
       "        vertical-align: top;\n",
       "    }\n",
       "\n",
       "    .dataframe thead th {\n",
       "        text-align: right;\n",
       "    }\n",
       "</style>\n",
       "<table border=\"1\" class=\"dataframe\">\n",
       "  <thead>\n",
       "    <tr style=\"text-align: right;\">\n",
       "      <th></th>\n",
       "      <th>sepal length (cm)</th>\n",
       "      <th>sepal width (cm)</th>\n",
       "      <th>petal length (cm)</th>\n",
       "      <th>petal width (cm)</th>\n",
       "    </tr>\n",
       "  </thead>\n",
       "  <tbody>\n",
       "    <tr>\n",
       "      <th>145</th>\n",
       "      <td>6.7</td>\n",
       "      <td>3.0</td>\n",
       "      <td>5.2</td>\n",
       "      <td>2.3</td>\n",
       "    </tr>\n",
       "    <tr>\n",
       "      <th>146</th>\n",
       "      <td>6.3</td>\n",
       "      <td>2.5</td>\n",
       "      <td>5.0</td>\n",
       "      <td>1.9</td>\n",
       "    </tr>\n",
       "    <tr>\n",
       "      <th>147</th>\n",
       "      <td>6.5</td>\n",
       "      <td>3.0</td>\n",
       "      <td>5.2</td>\n",
       "      <td>2.0</td>\n",
       "    </tr>\n",
       "    <tr>\n",
       "      <th>148</th>\n",
       "      <td>6.2</td>\n",
       "      <td>3.4</td>\n",
       "      <td>5.4</td>\n",
       "      <td>2.3</td>\n",
       "    </tr>\n",
       "    <tr>\n",
       "      <th>149</th>\n",
       "      <td>5.9</td>\n",
       "      <td>3.0</td>\n",
       "      <td>5.1</td>\n",
       "      <td>1.8</td>\n",
       "    </tr>\n",
       "  </tbody>\n",
       "</table>\n",
       "</div>"
      ],
      "text/plain": [
       "     sepal length (cm)  sepal width (cm)  petal length (cm)  petal width (cm)\n",
       "145                6.7               3.0                5.2               2.3\n",
       "146                6.3               2.5                5.0               1.9\n",
       "147                6.5               3.0                5.2               2.0\n",
       "148                6.2               3.4                5.4               2.3\n",
       "149                5.9               3.0                5.1               1.8"
      ]
     },
     "execution_count": 3,
     "metadata": {},
     "output_type": "execute_result"
    }
   ],
   "source": [
    "iris = datasets.load_iris()  #Import the Iris dataset\n",
    "df = pd.DataFrame(iris.data, columns = iris.feature_names)  #Converting into pandas dataframe\n",
    "y = iris.target\n",
    "df.tail()"
   ]
  },
  {
   "cell_type": "code",
   "execution_count": 4,
   "metadata": {},
   "outputs": [],
   "source": [
    "## Divide the data into train, validation, and test sets (60%, 20%, 20%)\n",
    "##*Note:* use random state=42 in the train test split function to get the\n",
    "## same split every time you run the program.\n",
    "x_train,x_test,y_train,y_test = train_test_split(df, y, test_size = 0.2, random_state = 42)\n",
    "x_train,x_val, y_train, y_val = train_test_split(x_train, y_train, test_size = 0.25, random_state = 42)"
   ]
  },
  {
   "cell_type": "code",
   "execution_count": 5,
   "metadata": {},
   "outputs": [
    {
     "name": "stdout",
     "output_type": "stream",
     "text": [
      "Shape of iris dataset : (150, 4)\n",
      "Shape of training set : (90, 4)\n",
      "Shape of test set : (30, 4)\n",
      "Shape of validation set : (30, 4)\n"
     ]
    }
   ],
   "source": [
    "print(\"Shape of iris dataset :\",df.shape)\n",
    "print(\"Shape of training set :\",x_train.shape)\n",
    "print(\"Shape of test set :\",x_test.shape)\n",
    "print(\"Shape of validation set :\",x_val.shape)"
   ]
  },
  {
   "cell_type": "code",
   "execution_count": 6,
   "metadata": {},
   "outputs": [
    {
     "name": "stdout",
     "output_type": "stream",
     "text": [
      "Accuracy on default Value of k = 96.66666666666667\n"
     ]
    }
   ],
   "source": [
    "## Q2. Train the model with each classifier's default parameters. Use the train\n",
    "##set and test the model on the test set. Store the accuracy of the model.\n",
    "neighbour = KNeighborsClassifier()\n",
    "neighbour.fit(x_train,y_train) #Fitting the Training data in the KNN algorithm \n",
    "y_pred = neighbour.predict(x_test) # Test the Model on the test data set\n",
    "acc = accuracy_score(y_test,y_pred)*100 #Accuracy score\n",
    "print(\"Accuracy on default Value of k =\",acc)"
   ]
  },
  {
   "cell_type": "code",
   "execution_count": 7,
   "metadata": {},
   "outputs": [
    {
     "name": "stdout",
     "output_type": "stream",
     "text": [
      "Accuracy for value of 1 is =  90.0\n",
      "Accuracy for value of 5 is =  93.33333333333333\n",
      "Accuracy for value of 10 is =  93.33333333333333\n",
      "Accuracy for value of 15 is =  93.33333333333333\n",
      "Accuracy for value of 20 is =  93.33333333333333\n",
      "Accuracy for value of 25 is =  96.66666666666667\n",
      "Accuracy for value of 30 is =  96.66666666666667\n",
      "Accuracy for value of 35 is =  93.33333333333333\n"
     ]
    }
   ],
   "source": [
    "# Training KNN classifier on the training data set and for different value of K and testing them\n",
    "# on the validation data set to find the tuned value of K\n",
    "k = [1,5,10,15,20,25,30,35]\n",
    "val_accuracy  = []\n",
    "for i in k:\n",
    "    neighbour_i = KNeighborsClassifier(n_neighbors = i)\n",
    "    neighbour_i.fit(x_train,y_train)\n",
    "    y_pred = neighbour_i.predict(x_val)# Test the model accuracy on the validation test\n",
    "    acc = accuracy_score(y_val,y_pred)*100 #Accuracy Score\n",
    "    print(\"Accuracy for value of\" + \" \" + str(i) + \" \" + \"is = \" ,acc)\n",
    "    val_accuracy.append(acc)"
   ]
  },
  {
   "cell_type": "code",
   "execution_count": 1,
   "metadata": {},
   "outputs": [
    {
     "ename": "NameError",
     "evalue": "name 'plt' is not defined",
     "output_type": "error",
     "traceback": [
      "\u001b[1;31m---------------------------------------------------------------------------\u001b[0m",
      "\u001b[1;31mNameError\u001b[0m                                 Traceback (most recent call last)",
      "\u001b[1;32m<ipython-input-1-5587e4744429>\u001b[0m in \u001b[0;36m<module>\u001b[1;34m\u001b[0m\n\u001b[0;32m      1\u001b[0m \u001b[1;31m# Plotting the Validation Accuracy against value of K.\u001b[0m\u001b[1;33m\u001b[0m\u001b[1;33m\u001b[0m\u001b[1;33m\u001b[0m\u001b[0m\n\u001b[0;32m      2\u001b[0m \u001b[0mget_ipython\u001b[0m\u001b[1;33m(\u001b[0m\u001b[1;33m)\u001b[0m\u001b[1;33m.\u001b[0m\u001b[0mrun_line_magic\u001b[0m\u001b[1;33m(\u001b[0m\u001b[1;34m'matplotlib'\u001b[0m\u001b[1;33m,\u001b[0m \u001b[1;34m'inline'\u001b[0m\u001b[1;33m)\u001b[0m\u001b[1;33m\u001b[0m\u001b[1;33m\u001b[0m\u001b[0m\n\u001b[1;32m----> 3\u001b[1;33m \u001b[0mplt\u001b[0m\u001b[1;33m.\u001b[0m\u001b[0mscatter\u001b[0m\u001b[1;33m(\u001b[0m\u001b[0mk\u001b[0m\u001b[1;33m,\u001b[0m\u001b[0mval_accuracy\u001b[0m\u001b[1;33m)\u001b[0m\u001b[1;33m\u001b[0m\u001b[1;33m\u001b[0m\u001b[0m\n\u001b[0m\u001b[0;32m      4\u001b[0m \u001b[0mplt\u001b[0m\u001b[1;33m.\u001b[0m\u001b[0mplot\u001b[0m\u001b[1;33m(\u001b[0m\u001b[0mk\u001b[0m\u001b[1;33m,\u001b[0m\u001b[0mval_accuracy\u001b[0m\u001b[1;33m)\u001b[0m\u001b[1;33m\u001b[0m\u001b[1;33m\u001b[0m\u001b[0m\n\u001b[0;32m      5\u001b[0m \u001b[0mplt\u001b[0m\u001b[1;33m.\u001b[0m\u001b[0mgrid\u001b[0m\u001b[1;33m(\u001b[0m\u001b[1;33m)\u001b[0m\u001b[1;33m\u001b[0m\u001b[1;33m\u001b[0m\u001b[0m\n",
      "\u001b[1;31mNameError\u001b[0m: name 'plt' is not defined"
     ]
    }
   ],
   "source": [
    "# Plotting the Validation Accuracy against value of K.\n",
    "%matplotlib inline\n",
    "plt.scatter(k,val_accuracy)\n",
    "plt.plot(k,val_accuracy)\n",
    "plt.xlabel('Value of K for KNN')\n",
    "plt.ylabel('Accuracy on Validation set')"
   ]
  },
  {
   "cell_type": "code",
   "execution_count": 9,
   "metadata": {},
   "outputs": [
    {
     "name": "stdout",
     "output_type": "stream",
     "text": [
      "Accuracy on 25 Value of k = 100.0\n",
      "Accuracy on 30 Value of k = 100.0\n"
     ]
    }
   ],
   "source": [
    "# Creating the classifier to test the test data set on the tuned hyperparameter\n",
    "k_best = [25,30]\n",
    "for m in k_best:    \n",
    "    neighbour_best_m = KNeighborsClassifier(n_neighbors = m)\n",
    "    neighbour_best_m.fit(x_train,y_train) #Fitting the Training data in the KNN algorithm \n",
    "    y_pred = neighbour_best_m.predict(x_test) # Test the Model on the test data set\n",
    "    acc = accuracy_score(y_test,y_pred)*100 #Accuracy score\n",
    "    print(\"Accuracy on\" + \" \"+ str(m) + \" \" +  \"Value of k =\",acc)"
   ]
  },
  {
   "cell_type": "code",
   "execution_count": null,
   "metadata": {},
   "outputs": [],
   "source": []
  }
 ],
 "metadata": {
  "kernelspec": {
   "display_name": "Python 3",
   "language": "python",
   "name": "python3"
  },
  "language_info": {
   "codemirror_mode": {
    "name": "ipython",
    "version": 3
   },
   "file_extension": ".py",
   "mimetype": "text/x-python",
   "name": "python",
   "nbconvert_exporter": "python",
   "pygments_lexer": "ipython3",
   "version": "3.7.3"
  }
 },
 "nbformat": 4,
 "nbformat_minor": 2
}
