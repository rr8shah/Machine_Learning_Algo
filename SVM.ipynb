{
 "cells": [
  {
   "cell_type": "code",
   "execution_count": 1,
   "metadata": {},
   "outputs": [],
   "source": [
    "import numpy as np\n",
    "import pandas as pd\n",
    "from sklearn import datasets, metrics\n",
    "from sklearn.model_selection import train_test_split, GridSearchCV, KFold, cross_val_score\n",
    "from sklearn.svm import SVC\n",
    "from sklearn.metrics import accuracy_score\n",
    "import matplotlib.pyplot as plt\n",
    "import time"
   ]
  },
  {
   "cell_type": "code",
   "execution_count": 2,
   "metadata": {},
   "outputs": [],
   "source": [
    "iris = datasets.load_iris()\n",
    "df = pd.DataFrame(data= np.c_[iris['data'], iris['target']],\n",
    "                     columns= iris['feature_names'] + ['target'])"
   ]
  },
  {
   "cell_type": "code",
   "execution_count": 3,
   "metadata": {},
   "outputs": [],
   "source": [
    "X_train_val,X_test,y_train_val,y_test = train_test_split(df[iris.feature_names], df['target'], test_size = 0.2, random_state = 42)"
   ]
  },
  {
   "cell_type": "markdown",
   "metadata": {},
   "source": [
    "Model Fitting Using cross_val_score "
   ]
  },
  {
   "cell_type": "code",
   "execution_count": 4,
   "metadata": {},
   "outputs": [],
   "source": [
    "value_c_cross = [0.1, 0.5, 1, 2, 5, 10, 20, 50]\n",
    "acc_cross = []\n",
    "times = []\n",
    "for i in value_c_cross:\n",
    "    clf_cross = SVC(kernel = 'linear', random_state = 42, C =i)\n",
    "    t0 = time.process_time()\n",
    "    scores = cross_val_score(clf_cross,X_train_val,y_train_val, cv =10)\n",
    "    t1 = time.process_time()\n",
    "    acc_cross.append(scores.mean())\n",
    "    times.append(t1 - t0)"
   ]
  },
  {
   "cell_type": "code",
   "execution_count": 5,
   "metadata": {},
   "outputs": [
    {
     "name": "stdout",
     "output_type": "stream",
     "text": [
      "For 0.1 Value of C, Accuracy is 0.958 in 0.0312 seconds\n",
      "For 0.5 Value of C, Accuracy is 0.967 in 0.0156 seconds\n",
      "For 1 Value of C, Accuracy is 0.967 in 0.0312 seconds\n",
      "For 2 Value of C, Accuracy is 0.967 in 0.0156 seconds\n",
      "For 5 Value of C, Accuracy is 0.967 in 0.0312 seconds\n",
      "For 10 Value of C, Accuracy is 0.967 in 0.0156 seconds\n",
      "For 20 Value of C, Accuracy is 0.942 in 0.0312 seconds\n",
      "For 50 Value of C, Accuracy is 0.934 in 0.0156 seconds\n"
     ]
    }
   ],
   "source": [
    "for c, acc,t in zip(value_c_cross, acc_cross, times):\n",
    "    print(\"For %r Value of C, Accuracy is %0.3f in %0.4f seconds\" %(c,acc,t))"
   ]
  },
  {
   "cell_type": "code",
   "execution_count": 6,
   "metadata": {},
   "outputs": [
    {
     "data": {
      "text/plain": [
       "Text(0, 0.5, 'Cross Validation Score Mean Test Accuracy(%)')"
      ]
     },
     "execution_count": 6,
     "metadata": {},
     "output_type": "execute_result"
    },
    {
     "data": {
      "image/png": "[encoded data removed]",
      "text/plain": [
       "<Figure size 432x288 with 1 Axes>"
      ]
     },
     "metadata": {
      "needs_background": "light"
     },
     "output_type": "display_data"
    }
   ],
   "source": [
    "%matplotlib inline\n",
    "plt.plot(value_c_cross,acc_cross,\"-o\")\n",
    "plt.xlabel('Value of C')\n",
    "plt.ylabel('Cross Validation Score Mean Test Accuracy(%)')"
   ]
  },
  {
   "cell_type": "code",
   "execution_count": 7,
   "metadata": {},
   "outputs": [
    {
     "data": {
      "text/plain": [
       "100.0"
      ]
     },
     "execution_count": 7,
     "metadata": {},
     "output_type": "execute_result"
    }
   ],
   "source": [
    "clf_test = SVC(kernel = 'linear', C = 0.1, random_state = 42)\n",
    "clf_test.fit(X_train_val, y_train_val)\n",
    "y_pred_test = clf_test.predict(X_test)\n",
    "accuracy_test = accuracy_score(y_pred_test, y_test)*100\n",
    "accuracy_test"
   ]
  },
  {
   "cell_type": "code",
   "execution_count": null,
   "metadata": {},
   "outputs": [],
   "source": []
  },
  {
   "cell_type": "code",
   "execution_count": null,
   "metadata": {},
   "outputs": [],
   "source": []
  }
 ],
 "metadata": {
  "kernelspec": {
   "display_name": "Python 3",
   "language": "python",
   "name": "python3"
  },
  "language_info": {
   "codemirror_mode": {
    "name": "ipython",
    "version": 3
   },
   "file_extension": ".py",
   "mimetype": "text/x-python",
   "name": "python",
   "nbconvert_exporter": "python",
   "pygments_lexer": "ipython3",
   "version": "3.7.3"
  }
 },
 "nbformat": 4,
 "nbformat_minor": 2
}
